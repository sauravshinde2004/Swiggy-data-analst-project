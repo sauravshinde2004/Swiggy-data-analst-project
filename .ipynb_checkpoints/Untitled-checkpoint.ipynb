{
 "cells": [
  {
   "cell_type": "code",
   "execution_count": null,
   "id": "74f50b7e",
   "metadata": {},
   "outputs": [],
   "source": [
    "import pandas as pd \n",
    "import numpy as np\n",
    "import matplotlib.pyplot as plt\n",
    "import seaborn as sns"
   ]
  },
  {
   "cell_type": "code",
   "execution_count": null,
   "id": "937517eb",
   "metadata": {},
   "outputs": [],
   "source": [
    "data_set = pd.read_csv(f\"swiggy.csv\")"
   ]
  },
  {
   "cell_type": "code",
   "execution_count": null,
   "id": "9443441e",
   "metadata": {},
   "outputs": [],
   "source": [
    "data_set.head()"
   ]
  },
  {
   "cell_type": "code",
   "execution_count": null,
   "id": "50ebace8",
   "metadata": {},
   "outputs": [],
   "source": [
    "data_set.info()"
   ]
  },
  {
   "cell_type": "code",
   "execution_count": null,
   "id": "cb19f4f6",
   "metadata": {},
   "outputs": [],
   "source": [
    "data_set.describe()"
   ]
  },
  {
   "cell_type": "code",
   "execution_count": null,
   "id": "88ae67ac",
   "metadata": {},
   "outputs": [],
   "source": [
    "data_set.columns"
   ]
  },
  {
   "cell_type": "code",
   "execution_count": null,
   "id": "a312a94a",
   "metadata": {},
   "outputs": [],
   "source": [
    "#HANDALING MISSING VALUES \n",
    "data_set.dropna()"
   ]
  },
  {
   "cell_type": "code",
   "execution_count": null,
   "id": "456f9e74",
   "metadata": {},
   "outputs": [],
   "source": [
    "data_set.fillna('NaNul')"
   ]
  },
  {
   "cell_type": "code",
   "execution_count": null,
   "id": "039641ae",
   "metadata": {},
   "outputs": [],
   "source": [
    "data_set.drop_duplicates()"
   ]
  },
  {
   "cell_type": "code",
   "execution_count": null,
   "id": "9ac59819",
   "metadata": {},
   "outputs": [],
   "source": [
    "fig, ax = plt.subplots(1, 3, figsize=(18, 6))"
   ]
  },
  {
   "cell_type": "code",
   "execution_count": null,
   "id": "79d9e76c",
   "metadata": {},
   "outputs": [],
   "source": [
    "fig, ax = plt.subplots(1, 3, figsize=(18, 6))\n",
    "# Distribution of Ratings\n",
    "sns.histplot(swiggy_data['Avg ratings'], bins=10, kde=True, ax=ax[0])\n",
    "ax[0].set_title('Distribution of Average Ratings')\n"
   ]
  },
  {
   "cell_type": "code",
   "execution_count": null,
   "id": "ad499d2a",
   "metadata": {},
   "outputs": [],
   "source": [
    "fig, ax = plt.subplots(1, 3, figsize=(18, 6))\n",
    "# Distribution of Ratings\n",
    "sns.histplot(swiggy_data['Avg ratings'], bins=10, kde=True, ax=ax[0])\n",
    "ax[0].set_title('Distribution of Average Ratings')\n",
    "# Distribution of Prices\n",
    "sns.histplot(swiggy_data['Price'], bins=10, kde=True, ax=ax[1])\n",
    "ax[1].set_title('Distribution of Prices')\n"
   ]
  },
  {
   "cell_type": "code",
   "execution_count": null,
   "id": "ae4b4e17",
   "metadata": {},
   "outputs": [],
   "source": [
    "fig, ax = plt.subplots(1, 3, figsize=(18, 6))\n",
    "# Distribution of Ratings\n",
    "sns.histplot(swiggy_data['Avg ratings'], bins=10, kde=True, ax=ax[0])\n",
    "ax[0].set_title('Distribution of Average Ratings')\n",
    "# Distribution of Prices\n",
    "sns.histplot(swiggy_data['Price'], bins=10, kde=True, ax=ax[1])\n",
    "ax[1].set_title('Distribution of Prices')\n",
    "# Distribution of Delivery Times\n",
    "sns.histplot(swiggy_data['Delivery time'], bins=10, kde=True, ax=ax[2])\n",
    "ax[2].set_title('Distribution of Delivery Times')\n",
    "plt.tight_layout()\n",
    "plt.show()"
   ]
  },
  {
   "cell_type": "code",
   "execution_count": null,
   "id": "dad3d4e8",
   "metadata": {},
   "outputs": [],
   "source": [
    "# Import necessary libraries\n",
    "import pandas as pd\n",
    "import matplotlib.pyplot as plt\n",
    "import seaborn as sns\n",
    "\n",
    "# Load the dataset\n",
    "swiggy_data = pd.read_csv('swiggy.csv', encoding='ascii')\n",
    "\n",
    "# Grouping data by City and Area\n",
    "grouped_data = swiggy_data.groupby(['City', 'Area']).agg({'Restaurant': 'count', 'Avg ratings': 'mean', 'Price': 'mean'}).reset_index()\n",
    "\n",
    "# Renaming columns for clarity\n",
    "grouped_data.rename(columns={'Restaurant': 'Number of Restaurants', 'Avg ratings': 'Average Rating', 'Price': 'Average Price'}, inplace=True)\n",
    "\n",
    "# Displaying the head of the grouped data for a preview\n",
    "print(grouped_data.head())\n",
    "\n",
    "# Plotting\n",
    "fig, ax = plt.subplots(3, 1, figsize=(10, 15))\n",
    "\n",
    "# Number of Restaurants by City and Area\n",
    "sns.barplot(x='Number of Restaurants', y='Area', hue='City', data=grouped_data, ax=ax[0])\n",
    "ax[0].set_title('Number of Restaurants by City and Area')\n",
    "\n",
    "# Average Rating by City and Area\n",
    "sns.barplot(x='Average Rating', y='Area', hue='City', data=grouped_data, ax=ax[1])\n",
    "ax[1].set_title('Average Rating by City and Area')\n",
    "\n",
    "# Average Price by City and Area\n",
    "sns.barplot(x='Average Price', y='Area', hue='City', data=grouped_data, ax=ax[2])\n",
    "ax[2].set_title('Average Price by City and Area')\n",
    "\n",
    "plt.tight_layout()\n",
    "plt.show()"
   ]
  }
 ],
 "metadata": {
  "kernelspec": {
   "display_name": "Python 3 (ipykernel)",
   "language": "python",
   "name": "python3"
  },
  "language_info": {
   "codemirror_mode": {
    "name": "ipython",
    "version": 3
   },
   "file_extension": ".py",
   "mimetype": "text/x-python",
   "name": "python",
   "nbconvert_exporter": "python",
   "pygments_lexer": "ipython3",
   "version": "3.11.5"
  }
 },
 "nbformat": 4,
 "nbformat_minor": 5
}
